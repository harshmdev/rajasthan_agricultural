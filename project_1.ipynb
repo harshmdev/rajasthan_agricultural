{
 "cells": [
  {
   "cell_type": "code",
   "execution_count": 11,
   "metadata": {
    "id": "sW1KWHUraeoo"
   },
   "outputs": [],
   "source": [
    "#First we import all necessary libraries\n",
    "import pandas as pd\n",
    "import numpy as np"
   ]
  },
  {
   "cell_type": "markdown",
   "metadata": {},
   "source": [
    "**Then we import all the datasets (This dataset is imported from kaggle named as \"Agricultural dataset for rajasthan\"      owner-suraj)**"
   ]
  },
  {
   "cell_type": "code",
   "execution_count": 12,
   "metadata": {},
   "outputs": [],
   "source": [
    "price=pd.read_csv(r\"C:\\Users\\91779\\Desktop\\projects\\rajasthan_agricultural\\datasets\\crop_price_data.csv\")\n",
    "production=pd.read_csv(r\"C:\\Users\\91779\\Desktop\\projects\\rajasthan_agricultural\\datasets\\crop_production_data.csv\")\n",
    "sad=pd.read_csv(r\"C:\\Users\\91779\\Desktop\\projects\\rajasthan_agricultural\\datasets\\soil_analysis_data.csv\")\n",
    "water_usage=pd.read_csv(r\"C:\\Users\\91779\\Desktop\\projects\\rajasthan_agricultural\\datasets\\water_usage_data.csv\")"
   ]
  },
  {
   "cell_type": "markdown",
   "metadata": {},
   "source": [
    "**Making excel sheet to manually access data**"
   ]
  },
  {
   "cell_type": "code",
   "execution_count": null,
   "metadata": {},
   "outputs": [],
   "source": [
    "\n",
    "with pd.ExcelWriter(\"rajasthan_agriculture.xlsx\") as writer:\n",
    "    price.to_excel(writer, sheet_name=\"price\")\n",
    "    production.to_excel(writer, sheet_name=\"production\")\n",
    "    sad.to_excel(writer, sheet_name=\"sad\")\n",
    "    water_usage.to_excel(writer, sheet_name=\"water_usage\")"
   ]
  },
  {
   "cell_type": "code",
   "execution_count": 29,
   "metadata": {},
   "outputs": [
    {
     "name": "stdout",
     "output_type": "stream",
     "text": [
      "<class 'pandas.core.frame.DataFrame'>\n",
      "RangeIndex: 4819 entries, 0 to 4818\n",
      "Data columns (total 5 columns):\n",
      " #   Column               Non-Null Count  Dtype  \n",
      "---  ------               --------------  -----  \n",
      " 0   District             4819 non-null   object \n",
      " 1   Crop                 4819 non-null   object \n",
      " 2   Market               4819 non-null   object \n",
      " 3   Date                 4819 non-null   object \n",
      " 4   Price (INR/quintal)  4819 non-null   float64\n",
      "dtypes: float64(1), object(4)\n",
      "memory usage: 188.4+ KB\n"
     ]
    },
    {
     "data": {
      "text/html": [
       "<div>\n",
       "<style scoped>\n",
       "    .dataframe tbody tr th:only-of-type {\n",
       "        vertical-align: middle;\n",
       "    }\n",
       "\n",
       "    .dataframe tbody tr th {\n",
       "        vertical-align: top;\n",
       "    }\n",
       "\n",
       "    .dataframe thead th {\n",
       "        text-align: right;\n",
       "    }\n",
       "</style>\n",
       "<table border=\"1\" class=\"dataframe\">\n",
       "  <thead>\n",
       "    <tr style=\"text-align: right;\">\n",
       "      <th></th>\n",
       "      <th>Price (INR/quintal)</th>\n",
       "    </tr>\n",
       "  </thead>\n",
       "  <tbody>\n",
       "    <tr>\n",
       "      <th>count</th>\n",
       "      <td>4819.000000</td>\n",
       "    </tr>\n",
       "    <tr>\n",
       "      <th>mean</th>\n",
       "      <td>2498.715360</td>\n",
       "    </tr>\n",
       "    <tr>\n",
       "      <th>std</th>\n",
       "      <td>295.651094</td>\n",
       "    </tr>\n",
       "    <tr>\n",
       "      <th>min</th>\n",
       "      <td>1323.279925</td>\n",
       "    </tr>\n",
       "    <tr>\n",
       "      <th>25%</th>\n",
       "      <td>2303.968087</td>\n",
       "    </tr>\n",
       "    <tr>\n",
       "      <th>50%</th>\n",
       "      <td>2497.697781</td>\n",
       "    </tr>\n",
       "    <tr>\n",
       "      <th>75%</th>\n",
       "      <td>2694.736166</td>\n",
       "    </tr>\n",
       "    <tr>\n",
       "      <th>max</th>\n",
       "      <td>3513.330472</td>\n",
       "    </tr>\n",
       "  </tbody>\n",
       "</table>\n",
       "</div>"
      ],
      "text/plain": [
       "       Price (INR/quintal)\n",
       "count          4819.000000\n",
       "mean           2498.715360\n",
       "std             295.651094\n",
       "min            1323.279925\n",
       "25%            2303.968087\n",
       "50%            2497.697781\n",
       "75%            2694.736166\n",
       "max            3513.330472"
      ]
     },
     "execution_count": 29,
     "metadata": {},
     "output_type": "execute_result"
    }
   ],
   "source": [
    "price.head()\n",
    "price.tail()\n",
    "price.sample(5)\n",
    "price.info()\n",
    "price.isnull()\n",
    "price.duplicated(subset=[\"District\",\"Crop\"]).sum()\n",
    "price.describe()"
   ]
  },
  {
   "cell_type": "code",
   "execution_count": 31,
   "metadata": {
    "colab": {
     "base_uri": "https://localhost:8080/",
     "height": 206
    },
    "id": "EV7FtNrHdpCe",
    "outputId": "cf6c7c1d-5eb5-45da-944f-8ceb5880db18"
   },
   "outputs": [
    {
     "name": "stdout",
     "output_type": "stream",
     "text": [
      "<class 'pandas.core.frame.DataFrame'>\n",
      "RangeIndex: 1000 entries, 0 to 999\n",
      "Data columns (total 6 columns):\n",
      " #   Column                    Non-Null Count  Dtype  \n",
      "---  ------                    --------------  -----  \n",
      " 0   District                  1000 non-null   object \n",
      " 1   Crop                      1000 non-null   object \n",
      " 2   Season                    1000 non-null   object \n",
      " 3   Area (hectares)           1000 non-null   float64\n",
      " 4   Yield (quintals)          1000 non-null   float64\n",
      " 5   Production (metric tons)  1000 non-null   float64\n",
      "dtypes: float64(3), object(3)\n",
      "memory usage: 47.0+ KB\n"
     ]
    },
    {
     "data": {
      "text/html": [
       "<div>\n",
       "<style scoped>\n",
       "    .dataframe tbody tr th:only-of-type {\n",
       "        vertical-align: middle;\n",
       "    }\n",
       "\n",
       "    .dataframe tbody tr th {\n",
       "        vertical-align: top;\n",
       "    }\n",
       "\n",
       "    .dataframe thead th {\n",
       "        text-align: right;\n",
       "    }\n",
       "</style>\n",
       "<table border=\"1\" class=\"dataframe\">\n",
       "  <thead>\n",
       "    <tr style=\"text-align: right;\">\n",
       "      <th></th>\n",
       "      <th>Area (hectares)</th>\n",
       "      <th>Yield (quintals)</th>\n",
       "      <th>Production (metric tons)</th>\n",
       "    </tr>\n",
       "  </thead>\n",
       "  <tbody>\n",
       "    <tr>\n",
       "      <th>count</th>\n",
       "      <td>1000.000000</td>\n",
       "      <td>1000.000000</td>\n",
       "      <td>1000.000000</td>\n",
       "    </tr>\n",
       "    <tr>\n",
       "      <th>mean</th>\n",
       "      <td>15046.881839</td>\n",
       "      <td>37.618328</td>\n",
       "      <td>5662.518485</td>\n",
       "    </tr>\n",
       "    <tr>\n",
       "      <th>std</th>\n",
       "      <td>2775.359803</td>\n",
       "      <td>8.218587</td>\n",
       "      <td>1629.922505</td>\n",
       "    </tr>\n",
       "    <tr>\n",
       "      <th>min</th>\n",
       "      <td>5276.197980</td>\n",
       "      <td>20.272936</td>\n",
       "      <td>1728.445956</td>\n",
       "    </tr>\n",
       "    <tr>\n",
       "      <th>25%</th>\n",
       "      <td>13165.258125</td>\n",
       "      <td>31.105150</td>\n",
       "      <td>4438.671582</td>\n",
       "    </tr>\n",
       "    <tr>\n",
       "      <th>50%</th>\n",
       "      <td>15108.130420</td>\n",
       "      <td>37.227050</td>\n",
       "      <td>5561.468281</td>\n",
       "    </tr>\n",
       "    <tr>\n",
       "      <th>75%</th>\n",
       "      <td>16944.950094</td>\n",
       "      <td>43.711205</td>\n",
       "      <td>6769.771692</td>\n",
       "    </tr>\n",
       "    <tr>\n",
       "      <th>max</th>\n",
       "      <td>20000.000000</td>\n",
       "      <td>60.429192</td>\n",
       "      <td>10834.530834</td>\n",
       "    </tr>\n",
       "  </tbody>\n",
       "</table>\n",
       "</div>"
      ],
      "text/plain": [
       "       Area (hectares)  Yield (quintals)  Production (metric tons)\n",
       "count      1000.000000       1000.000000               1000.000000\n",
       "mean      15046.881839         37.618328               5662.518485\n",
       "std        2775.359803          8.218587               1629.922505\n",
       "min        5276.197980         20.272936               1728.445956\n",
       "25%       13165.258125         31.105150               4438.671582\n",
       "50%       15108.130420         37.227050               5561.468281\n",
       "75%       16944.950094         43.711205               6769.771692\n",
       "max       20000.000000         60.429192              10834.530834"
      ]
     },
     "execution_count": 31,
     "metadata": {},
     "output_type": "execute_result"
    }
   ],
   "source": [
    "production.head()\n",
    "production.tail()\n",
    "production.sample(5)\n",
    "production.info()\n",
    "production.isnull()\n",
    "production.duplicated().sum()\n",
    "production.describe()"
   ]
  },
  {
   "cell_type": "code",
   "execution_count": 33,
   "metadata": {
    "colab": {
     "base_uri": "https://localhost:8080/",
     "height": 285
    },
    "id": "ZAQqhEbddo_x",
    "outputId": "cc4e216a-6985-4ec9-a60a-21c6f4ba38ec"
   },
   "outputs": [
    {
     "name": "stdout",
     "output_type": "stream",
     "text": [
      "<class 'pandas.core.frame.DataFrame'>\n",
      "RangeIndex: 1000 entries, 0 to 999\n",
      "Data columns (total 7 columns):\n",
      " #   Column                      Non-Null Count  Dtype  \n",
      "---  ------                      --------------  -----  \n",
      " 0   District                    1000 non-null   object \n",
      " 1   Soil Type                   1000 non-null   object \n",
      " 2   pH Level                    1000 non-null   float64\n",
      " 3   Organic Matter (%)          1000 non-null   float64\n",
      " 4   Nitrogen Content (kg/ha)    1000 non-null   float64\n",
      " 5   Phosphorus Content (kg/ha)  1000 non-null   float64\n",
      " 6   Potassium Content (kg/ha)   1000 non-null   float64\n",
      "dtypes: float64(5), object(2)\n",
      "memory usage: 54.8+ KB\n"
     ]
    },
    {
     "data": {
      "text/html": [
       "<div>\n",
       "<style scoped>\n",
       "    .dataframe tbody tr th:only-of-type {\n",
       "        vertical-align: middle;\n",
       "    }\n",
       "\n",
       "    .dataframe tbody tr th {\n",
       "        vertical-align: top;\n",
       "    }\n",
       "\n",
       "    .dataframe thead th {\n",
       "        text-align: right;\n",
       "    }\n",
       "</style>\n",
       "<table border=\"1\" class=\"dataframe\">\n",
       "  <thead>\n",
       "    <tr style=\"text-align: right;\">\n",
       "      <th></th>\n",
       "      <th>pH Level</th>\n",
       "      <th>Organic Matter (%)</th>\n",
       "      <th>Nitrogen Content (kg/ha)</th>\n",
       "      <th>Phosphorus Content (kg/ha)</th>\n",
       "      <th>Potassium Content (kg/ha)</th>\n",
       "    </tr>\n",
       "  </thead>\n",
       "  <tbody>\n",
       "    <tr>\n",
       "      <th>count</th>\n",
       "      <td>1000.000000</td>\n",
       "      <td>1000.000000</td>\n",
       "      <td>1000.000000</td>\n",
       "      <td>1000.000000</td>\n",
       "      <td>1000.000000</td>\n",
       "    </tr>\n",
       "    <tr>\n",
       "      <th>mean</th>\n",
       "      <td>7.495453</td>\n",
       "      <td>1.993592</td>\n",
       "      <td>29.883358</td>\n",
       "      <td>19.729932</td>\n",
       "      <td>39.877907</td>\n",
       "    </tr>\n",
       "    <tr>\n",
       "      <th>std</th>\n",
       "      <td>0.517155</td>\n",
       "      <td>0.515340</td>\n",
       "      <td>5.202697</td>\n",
       "      <td>5.067005</td>\n",
       "      <td>4.874751</td>\n",
       "    </tr>\n",
       "    <tr>\n",
       "      <th>min</th>\n",
       "      <td>5.889492</td>\n",
       "      <td>0.155817</td>\n",
       "      <td>11.994574</td>\n",
       "      <td>4.961838</td>\n",
       "      <td>24.116481</td>\n",
       "    </tr>\n",
       "    <tr>\n",
       "      <th>25%</th>\n",
       "      <td>7.157881</td>\n",
       "      <td>1.638911</td>\n",
       "      <td>26.217325</td>\n",
       "      <td>16.216471</td>\n",
       "      <td>36.703917</td>\n",
       "    </tr>\n",
       "    <tr>\n",
       "      <th>50%</th>\n",
       "      <td>7.500129</td>\n",
       "      <td>1.981462</td>\n",
       "      <td>29.822797</td>\n",
       "      <td>19.913737</td>\n",
       "      <td>39.796016</td>\n",
       "    </tr>\n",
       "    <tr>\n",
       "      <th>75%</th>\n",
       "      <td>7.846940</td>\n",
       "      <td>2.345688</td>\n",
       "      <td>33.232056</td>\n",
       "      <td>23.122285</td>\n",
       "      <td>43.382039</td>\n",
       "    </tr>\n",
       "    <tr>\n",
       "      <th>max</th>\n",
       "      <td>9.038430</td>\n",
       "      <td>3.764528</td>\n",
       "      <td>45.760284</td>\n",
       "      <td>35.588406</td>\n",
       "      <td>54.678290</td>\n",
       "    </tr>\n",
       "  </tbody>\n",
       "</table>\n",
       "</div>"
      ],
      "text/plain": [
       "          pH Level  Organic Matter (%)  Nitrogen Content (kg/ha)  \\\n",
       "count  1000.000000         1000.000000               1000.000000   \n",
       "mean      7.495453            1.993592                 29.883358   \n",
       "std       0.517155            0.515340                  5.202697   \n",
       "min       5.889492            0.155817                 11.994574   \n",
       "25%       7.157881            1.638911                 26.217325   \n",
       "50%       7.500129            1.981462                 29.822797   \n",
       "75%       7.846940            2.345688                 33.232056   \n",
       "max       9.038430            3.764528                 45.760284   \n",
       "\n",
       "       Phosphorus Content (kg/ha)  Potassium Content (kg/ha)  \n",
       "count                 1000.000000                1000.000000  \n",
       "mean                    19.729932                  39.877907  \n",
       "std                      5.067005                   4.874751  \n",
       "min                      4.961838                  24.116481  \n",
       "25%                     16.216471                  36.703917  \n",
       "50%                     19.913737                  39.796016  \n",
       "75%                     23.122285                  43.382039  \n",
       "max                     35.588406                  54.678290  "
      ]
     },
     "execution_count": 33,
     "metadata": {},
     "output_type": "execute_result"
    }
   ],
   "source": [
    "sad.head()\n",
    "sad.tail()\n",
    "sad.sample(5)\n",
    "sad.info()\n",
    "sad.isnull()\n",
    "sad.duplicated().sum()\n",
    "sad.describe()"
   ]
  },
  {
   "cell_type": "code",
   "execution_count": 32,
   "metadata": {
    "colab": {
     "base_uri": "https://localhost:8080/",
     "height": 250
    },
    "id": "Y1ySYFb_do8T",
    "outputId": "6da87866-7d1f-4b70-e542-5208302d15ae"
   },
   "outputs": [
    {
     "name": "stdout",
     "output_type": "stream",
     "text": [
      "<class 'pandas.core.frame.DataFrame'>\n",
      "RangeIndex: 1000 entries, 0 to 999\n",
      "Data columns (total 5 columns):\n",
      " #   Column                               Non-Null Count  Dtype  \n",
      "---  ------                               --------------  -----  \n",
      " 0   District                             1000 non-null   object \n",
      " 1   Crop                                 1000 non-null   object \n",
      " 2   Irrigation Method                    1000 non-null   object \n",
      " 3   Water Consumption (liters/hectare)   1000 non-null   float64\n",
      " 4   Water Availability (liters/hectare)  1000 non-null   float64\n",
      "dtypes: float64(2), object(3)\n",
      "memory usage: 39.2+ KB\n"
     ]
    },
    {
     "data": {
      "text/html": [
       "<div>\n",
       "<style scoped>\n",
       "    .dataframe tbody tr th:only-of-type {\n",
       "        vertical-align: middle;\n",
       "    }\n",
       "\n",
       "    .dataframe tbody tr th {\n",
       "        vertical-align: top;\n",
       "    }\n",
       "\n",
       "    .dataframe thead th {\n",
       "        text-align: right;\n",
       "    }\n",
       "</style>\n",
       "<table border=\"1\" class=\"dataframe\">\n",
       "  <thead>\n",
       "    <tr style=\"text-align: right;\">\n",
       "      <th></th>\n",
       "      <th>Water Consumption (liters/hectare)</th>\n",
       "      <th>Water Availability (liters/hectare)</th>\n",
       "    </tr>\n",
       "  </thead>\n",
       "  <tbody>\n",
       "    <tr>\n",
       "      <th>count</th>\n",
       "      <td>1000.000000</td>\n",
       "      <td>1000.000000</td>\n",
       "    </tr>\n",
       "    <tr>\n",
       "      <th>mean</th>\n",
       "      <td>10557.110759</td>\n",
       "      <td>10543.621287</td>\n",
       "    </tr>\n",
       "    <tr>\n",
       "      <th>std</th>\n",
       "      <td>2835.083841</td>\n",
       "      <td>2905.372578</td>\n",
       "    </tr>\n",
       "    <tr>\n",
       "      <th>min</th>\n",
       "      <td>4673.530139</td>\n",
       "      <td>4505.257189</td>\n",
       "    </tr>\n",
       "    <tr>\n",
       "      <th>25%</th>\n",
       "      <td>8238.226672</td>\n",
       "      <td>8142.359044</td>\n",
       "    </tr>\n",
       "    <tr>\n",
       "      <th>50%</th>\n",
       "      <td>10422.656935</td>\n",
       "      <td>10524.479417</td>\n",
       "    </tr>\n",
       "    <tr>\n",
       "      <th>75%</th>\n",
       "      <td>12808.359361</td>\n",
       "      <td>12879.893934</td>\n",
       "    </tr>\n",
       "    <tr>\n",
       "      <th>max</th>\n",
       "      <td>18631.091327</td>\n",
       "      <td>18489.171266</td>\n",
       "    </tr>\n",
       "  </tbody>\n",
       "</table>\n",
       "</div>"
      ],
      "text/plain": [
       "       Water Consumption (liters/hectare)  Water Availability (liters/hectare)\n",
       "count                         1000.000000                          1000.000000\n",
       "mean                         10557.110759                         10543.621287\n",
       "std                           2835.083841                          2905.372578\n",
       "min                           4673.530139                          4505.257189\n",
       "25%                           8238.226672                          8142.359044\n",
       "50%                          10422.656935                         10524.479417\n",
       "75%                          12808.359361                         12879.893934\n",
       "max                          18631.091327                         18489.171266"
      ]
     },
     "execution_count": 32,
     "metadata": {},
     "output_type": "execute_result"
    }
   ],
   "source": [
    "water_usage.head()\n",
    "water_usage.tail()\n",
    "water_usage.sample(5)\n",
    "water_usage.info()\n",
    "water_usage.isnull()\n",
    "water_usage.duplicated().sum()\n",
    "water_usage.describe()"
   ]
  },
  {
   "cell_type": "code",
   "execution_count": 17,
   "metadata": {
    "id": "6-mJrLGrdo64"
   },
   "outputs": [],
   "source": []
  },
  {
   "cell_type": "code",
   "execution_count": null,
   "metadata": {
    "id": "MoxYk2Csdo2_"
   },
   "outputs": [],
   "source": []
  },
  {
   "cell_type": "code",
   "execution_count": null,
   "metadata": {
    "id": "I2fR7sDBdo1Y"
   },
   "outputs": [],
   "source": []
  }
 ],
 "metadata": {
  "colab": {
   "provenance": []
  },
  "kernelspec": {
   "display_name": "Python 3 (ipykernel)",
   "language": "python",
   "name": "python3"
  },
  "language_info": {
   "codemirror_mode": {
    "name": "ipython",
    "version": 3
   },
   "file_extension": ".py",
   "mimetype": "text/x-python",
   "name": "python",
   "nbconvert_exporter": "python",
   "pygments_lexer": "ipython3",
   "version": "3.9.12"
  }
 },
 "nbformat": 4,
 "nbformat_minor": 1
}
